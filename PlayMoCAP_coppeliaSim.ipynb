{
 "cells": [
  {
   "cell_type": "code",
   "execution_count": 1,
   "metadata": {},
   "outputs": [],
   "source": [
    "%matplotlib inline\n",
    "%load_ext autoreload\n",
    "# %load_ext toc2\n",
    "%autoreload 2\n",
    "\n",
    "# pymo Dependencies\n",
    "\n",
    "import matplotlib\n",
    "import matplotlib.pyplot as plt\n",
    "from mpl_toolkits.mplot3d import Axes3D\n",
    "\n",
    "import tensorflow as tf\n",
    "import numpy as np\n",
    "import pandas as pd\n",
    "from sklearn.pipeline import Pipeline\n",
    "from sklearn.preprocessing import StandardScaler\n",
    "import pickle\n",
    "import itertools\n",
    "from datetime import datetime\n",
    "\n",
    "\n",
    "import glob\n",
    "import os\n",
    "import sys\n",
    "module_path = os.path.abspath(os.path.join('..'))\n",
    "if module_path not in sys.path:\n",
    "    sys.path.append(module_path)\n",
    "    \n",
    "import IPython\n",
    "\n",
    "from pymo.parsers import BVHParser\n",
    "from pymo.preprocessing import *\n",
    "from pymo.viz_tools import *\n",
    "from pymo.writers import *"
   ]
  },
  {
   "cell_type": "code",
   "execution_count": 7,
   "metadata": {},
   "outputs": [],
   "source": [
    "# PyRep Libraries\n",
    "from pyrep import PyRep\n",
    "from pyrep.objects.shape import Shape\n",
    "from pyrep.objects.dummy import Dummy\n",
    "from pyrep.objects.vision_sensor import VisionSensor\n",
    "from pyrep.const import PrimitiveShape\n",
    "from pyrep.const import TextureMappingMode\n",
    "import time\n",
    "\n",
    "import numpy as np\n",
    "import matplotlib.pyplot as plt\n",
    "import matplotlib"
   ]
  },
  {
   "cell_type": "code",
   "execution_count": 25,
   "metadata": {},
   "outputs": [],
   "source": [
    "p = BVHParser()\n",
    "\n",
    "# MoCAP Data\n",
    "# data_all = [p.parse('hello_wave_141_16.bvh')]\n",
    "data_all = [p.parse('AV_8Walk_Meredith_HVHA_Rep1.bvh')]"
   ]
  },
  {
   "cell_type": "code",
   "execution_count": 26,
   "metadata": {},
   "outputs": [],
   "source": [
    "BVH2Pos = MocapParameterizer('position')\n",
    "data_pos = BVH2Pos.fit_transform(data_all)"
   ]
  },
  {
   "cell_type": "code",
   "execution_count": 5,
   "metadata": {},
   "outputs": [],
   "source": [
    "pr = PyRep()\n",
    "# Launch the application with a scene file in non-headless mode\n",
    "\n",
    "pr.launch('scene.ttt', headless=False) "
   ]
  },
  {
   "cell_type": "code",
   "execution_count": 38,
   "metadata": {},
   "outputs": [],
   "source": [
    "pr.start()  # Start the simulation"
   ]
  },
  {
   "cell_type": "code",
   "execution_count": 37,
   "metadata": {},
   "outputs": [],
   "source": [
    "skeletonJoint_dummyHandle = {}\n",
    "for i in data_all[0].traverse():\n",
    "    if 'Nub' in i:\n",
    "        continue \n",
    "    skeletonJoint_dummyHandle[i] = Dummy.create(size=0.04)"
   ]
  },
  {
   "cell_type": "code",
   "execution_count": 40,
   "metadata": {},
   "outputs": [],
   "source": [
    "# Dummy for playing back mocap\n",
    "scale = 0.015\n",
    "translation = [0.0, 0.0, 0]\n",
    "\n",
    "for frame_orient, frame_pos in zip(data_all[0].values.iterrows(), data_pos[0].values.iterrows()):\n",
    "    \n",
    "    for skeletonJoint, dummyHandle in skeletonJoint_dummyHandle.items():\n",
    "        \n",
    "        # Extract Orientation and Position from MoCAP\n",
    "        orient = frame_orient[1][skeletonJoint+'_Xrotation'], frame_orient[1][skeletonJoint+'_Yrotation'], frame_orient[1][skeletonJoint+'_Zrotation']\n",
    "        \n",
    "        pos = (-frame_pos[1][skeletonJoint+'_Zposition']*scale)+translation[0], (-frame_pos[1][skeletonJoint+'_Xposition']*scale)+translation[1], (frame_pos[1][skeletonJoint+'_Yposition']*scale)\n",
    "        \n",
    "        # Set Dummy Position and Orientation\n",
    "        dummyHandle.set_orientation(np.deg2rad(orient)) \n",
    "        dummyHandle.set_position(pos)\n",
    "        \n",
    "    pr.step() # Step physics simulation"
   ]
  },
  {
   "cell_type": "code",
   "execution_count": 41,
   "metadata": {},
   "outputs": [],
   "source": [
    "pr.stop()  # Stop the simulation"
   ]
  },
  {
   "cell_type": "code",
   "execution_count": null,
   "metadata": {},
   "outputs": [],
   "source": [
    "pr.shutdown()  # "
   ]
  }
 ],
 "metadata": {
  "kernelspec": {
   "display_name": "Python 3.6.12 64-bit ('pyrep_rl': conda)",
   "language": "python",
   "name": "python361264bitpyreprlcondaee363f98ce5846619f262650dc1d8e45"
  },
  "language_info": {
   "codemirror_mode": {
    "name": "ipython",
    "version": 3
   },
   "file_extension": ".py",
   "mimetype": "text/x-python",
   "name": "python",
   "nbconvert_exporter": "python",
   "pygments_lexer": "ipython3",
   "version": "3.6.12"
  }
 },
 "nbformat": 4,
 "nbformat_minor": 4
}
